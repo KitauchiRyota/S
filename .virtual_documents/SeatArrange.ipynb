


# sample code from Gemini

import pandas as pd

# サンプルデータフレーム作成
df = pd.DataFrame({'id': [1, 2, 3, 4], 'name': ['A', 'B', 'C', 'D'], 'value': [10, 20, 30, 40]})
print("Before replacement:")
print(df)

# 参照テーブル（リスト形式）
reference_table = [0, 100, 200, 300, 400]  # インデックス1がid=1に対応

# 'name'列の条件に基づいて'id'列を上書き
def replace_id(row):
    if row['name'] == 'A':  # 条件：nameが'A'のとき
        if 0 < row['id'] < len(reference_table):  # idが参照テーブルの範囲内
            row['id'] = reference_table[row['id']]
    return row

# 'id'列を上書きする
df = df.apply(replace_id, axis=1)

print("\nAfter replacement:")
print(df)


# 動作化環境を確認
import sys

print("Python version")
print(sys.version)
print("Version info.")
print(sys.version_info)





# CSVデータをDL
import numpy as np
import pandas as pd
# df = pd.read_csv('source.csv')
df = pd.read_csv('for2024_10_30.csv')


# print(df)
print(df.head())
print(df.info())


# 最初に変数を設定

# 全体mtg実施場所
# 一方を使って他方はコメントアウト
                                            #←ここもユーザーからの入力で選べるようにした方が良いかも
Venue = 'a' # ANNEX
# Venue = 'j' # 情報統括センター

# ファシリテーションを担当する期
Faci=20

# 最上期と最下期
OldestCohort =17 # 最上期
YoungestCohort = 21 # 最下期

# 実施場所に応じて班員の最大値と、班数の最大値を設定→とりあえず簡単に実装するため n_groups でグループ数を指定する
# オンライン班については上限無しとする

n_groups = 8 # 作るグループの数

if(Venue == 'a'):
  # ANNEXの場合
  MNmembers = 8 # 一班あたりの最大人数：Maximum Numbers of members per group
  MNgroups = 6 # 班の数の最大：Maximum Numbers of groups
elif(Venue == 'j'):
  # 情報統括センターの場合
  MNmembers = 8
  MNgroups = 8

PhyGroups = ['A','B','C','D','E','F','G','H','I','J'] # 対面グループ参照用テーブル。対面参加：physically present

# 対面とオンラインのそれぞれの出席者をカウント　←　必要無いかも？
# T：対面　O：オンライン
# print(len(df.query('attendanceFormat == "対面" ')))
sumT=len(df.query('attendanceFormat == "対面" '))
sumO=len(df.query('attendanceFormat == "Zoom" '))
# print(sumT,sumO)
# 36 16


df


# 出席形態のリストを作成
AttendanceFormatList = ["対面","Zoom"]

# 所属している期のリストを作成。ファシリをする期優先的に配置するので先頭に移動させる。
CohortList = list(range(OldestCohort,YoungestCohort+1))
CohortList.insert(0,CohortList.pop(CohortList.index(Faci)))


cnt = 0
df['seat'] = -1 # 結果を格納用の列を追加

# ファシリの期の人をランダムにシャッフルして、班の数以内で通し番号を振る。番号を振った後でmodで最大班数以下にする。
for attendanceFormat in AttendanceFormatList:
    
    # とりあえずは、ここで作成するグループ数を指定
    if (attendanceFormat == "対面"):
        n_groups = 6
    elif (attendanceFormat == "Zoom"):
        n_groups = 4
    else:
        n_groups = -1
        
    for Cohort in CohortList:
        condition = (df['cohort'] == Cohort) & (df['attendanceFormat'] == attendanceFormat)
        # print(condition)
        df_filtered = df[condition]
        # print(df_filtered)
        random_indices = np.arange(cnt, cnt + len(df_filtered))  # 1から始まる連番を生成
        cnt = max(random_indices) % n_groups
        # print(random_indices)
        # print(cnt)
        # modを入れる
        np.random.shuffle(random_indices)  # ランダムにシャッフル
        df_filtered.index = random_indices
        
        # 元のデータフレームに反映
        df.loc[condition, 'seat'] = df_filtered.index
        df.loc[condition, 'seat'] = df.loc[condition, 'seat'] % n_groups
        # print(df)

    # if (attendanceFormat == "対面"):
        # todo テーブル参照

# df['seat'] = df['seat'] % n_groups
display(df)
# df.sort_values('seat')


# 席配置用に調整
# 対面ならアルファベットに，Zoomなら数値＋1する

def adjust_seat(row):
    if (row['attendanceFormat'] == "対面"):
        row['seat'] = PhyGroups[row['seat']]
    elif(row['attendanceFormat'] == "Zoom"):
        row['seat'] = row['seat'] + 1
    return row

df = df.apply(adjust_seat, axis=1)
display(df)
# df.sort_values('seat')
df.to_csv('result.csv')


display(df)
# df.sort_values('seat')
df.to_csv('result.csv')


### backup
        # 元のデータフレームに反映
        df.loc[condition, 'seat'] = df_filtered.index
        # print(df)

    if (attendanceFormat == "対面"):
        # todo テーブル参照

df['seat'] = df['seat'] % n_groups
df.sort_values('seat')


### 途中
        # 元のデータフレームに反映
        df.loc[condition, 'seat'] = df_filtered.index
        # print(df)

    if (attendanceFormat == "対面"):
        # todo テーブル参照

df['seat'] = df['seat'] % n_groups
df.sort_values('seat')


# ファシリの期の人をランダムにシャッフルして、班の数以内で通し番号を振る。番号を振った後でmodで最大班数以下にする。
# df.loc[(df['cohort'] == Faci) & (df['attendanceFormat'] == "対面"), 'seat'] = range(1, len(df.loc[(df['cohort'] == Faci) & (df['attendanceFormat'] == "対面")]) + 1)
# df

# 継続は、ファシリ+1期から順に、期ごとにシャッフルして通し番号を振る。（前の期の番号をグローバル変数で管理しておくと偏りが出ないかも）





# 議事録担当を優先的に配置
# print(df.query(('cohort == @Faci & attendanceFormat == "対面" ')))
df_T = df.query(('attendanceFormat == "対面" '))
min_MTTimes = df_T['minuteTakerTimes'].min()
num_min_MTTimes =len(df_T.query('minuteTakerTimes == @min_MTTimes '))
print(min_MTTimes,num_min_MTTimes)

# num_min_MTTimes が1人の場合
# num_min_MTTimes のcohortを重複無しで取り出す。個数が1で且つ youngestCohort と同じ場合は、 num_min_MTTimes をインクリメント
unq = df_T.query(('minuteTakerTimes == @min_MTTimes '))['cohort'].unique()
n_unq = len(unq)
if (n_unq == 1 & unq[0] == YoungestCohort ):

elif()
# num_min_MTTimes が全員 youngestCohort の場合

# 議事録担当者の議事録担当回数をインクリメント
